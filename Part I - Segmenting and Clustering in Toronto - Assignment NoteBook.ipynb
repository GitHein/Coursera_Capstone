{
 "cells": [
  {
   "cell_type": "markdown",
   "metadata": {
    "heading_collapsed": true
   },
   "source": [
    "# Assignment: Segmenting and Clustering Neighborhoods in Toronto"
   ]
  },
  {
   "cell_type": "markdown",
   "metadata": {},
   "source": [
    "# Problem Statement"
   ]
  },
  {
   "cell_type": "markdown",
   "metadata": {},
   "source": [
    "## Brief\n",
    ">1. Acquire the data, \n",
    "2. Explore the data, \n",
    "3. Segment, and Cluster the neighborhoods in the city of Toronto based on the postalcode and borough information."
   ]
  },
  {
   "cell_type": "markdown",
   "metadata": {},
   "source": [
    "### 1. Part I - Data Acquisition\n",
    "\n",
    ">The Toronto neighborhood data can be found on a Wikipedia page that has all the information we need to explore and cluster the neighborhoods in Toronto. We will have to scrape the Wikipedia page and wrangle the data, clean it, and then read it into a pandas  dataframe so that it is in a structured format.\n",
    "\n",
    "Create a dataframe consisting of three columns: PostalCode, Borough, and Neighborhood from `'https://en.wikipedia.org/wiki/List_of_postal_codes_of_Canada:_M.'`\n",
    "- Only process the cells that have an assigned borough. \n",
    "- Ignore cells with a borough that is Not assigned.\n",
    "- More than one neighborhood can exist in one postal code area. Combine multiple rows into single rows with comma-separated `'Neighborhoods'`.\n",
    "- If a cell has a borough but a Not assigned  neighborhood, then the neighborhood will be the same as the borough.\n",
    "\n"
   ]
  },
  {
   "cell_type": "markdown",
   "metadata": {},
   "source": [
    "### 1.1 Method"
   ]
  },
  {
   "cell_type": "markdown",
   "metadata": {},
   "source": [
    "#### Import the required Libraries"
   ]
  },
  {
   "cell_type": "code",
   "execution_count": 1,
   "metadata": {},
   "outputs": [
    {
     "name": "stdout",
     "output_type": "stream",
     "text": [
      "Requirement already satisfied: folium in c:\\users\\conta\\anaconda3\\lib\\site-packages (0.12.1)\n",
      "Requirement already satisfied: numpy in c:\\users\\conta\\anaconda3\\lib\\site-packages (from folium) (1.19.2)\n",
      "Requirement already satisfied: branca>=0.3.0 in c:\\users\\conta\\anaconda3\\lib\\site-packages (from folium) (0.4.2)\n",
      "Requirement already satisfied: requests in c:\\users\\conta\\anaconda3\\lib\\site-packages (from folium) (2.24.0)\n",
      "Requirement already satisfied: jinja2>=2.9 in c:\\users\\conta\\anaconda3\\lib\\site-packages (from folium) (2.11.2)\n",
      "Requirement already satisfied: chardet<4,>=3.0.2 in c:\\users\\conta\\anaconda3\\lib\\site-packages (from requests->folium) (3.0.4)\n",
      "Requirement already satisfied: urllib3!=1.25.0,!=1.25.1,<1.26,>=1.21.1 in c:\\users\\conta\\anaconda3\\lib\\site-packages (from requests->folium) (1.25.11)\n",
      "Requirement already satisfied: certifi>=2017.4.17 in c:\\users\\conta\\anaconda3\\lib\\site-packages (from requests->folium) (2020.6.20)\n",
      "Requirement already satisfied: idna<3,>=2.5 in c:\\users\\conta\\anaconda3\\lib\\site-packages (from requests->folium) (2.10)\n",
      "Requirement already satisfied: MarkupSafe>=0.23 in c:\\users\\conta\\anaconda3\\lib\\site-packages (from jinja2>=2.9->folium) (1.1.1)\n",
      "Libraries imported.\n"
     ]
    }
   ],
   "source": [
    "!pip install folium\n",
    "import folium\n",
    "import numpy as np # library to handle data in a vectorized manner\n",
    "import pandas as pd # library for data analsysis\n",
    "import requests # this module helps us to download a web page\n",
    "from bs4 import BeautifulSoup # this module helps in web scrapping.\n",
    "\n",
    "print('Libraries imported.')"
   ]
  },
  {
   "cell_type": "markdown",
   "metadata": {},
   "source": [
    "#### 1.1.1 Get Data from Wiki.\n",
    "Define URL and get via requests"
   ]
  },
  {
   "cell_type": "code",
   "execution_count": 2,
   "metadata": {},
   "outputs": [],
   "source": [
    "URL = \"https://en.wikipedia.org/wiki/List_of_postal_codes_of_Canada:_M\" #Wiki url\n",
    "req = requests.get(URL)"
   ]
  },
  {
   "cell_type": "markdown",
   "metadata": {},
   "source": [
    "#### 1.1.2 Pass to BeautifulSoup.\n",
    "First, the document is converted to Unicode, (similar to ASCII), \n",
    "and HTML entities are converted to Unicode characters. \n",
    "Beautiful Soup transforms a HTML document into a tree of Python objects."
   ]
  },
  {
   "cell_type": "code",
   "execution_count": 3,
   "metadata": {},
   "outputs": [
    {
     "name": "stdout",
     "output_type": "stream",
     "text": [
      "Page Scraped.\n"
     ]
    }
   ],
   "source": [
    "soup = BeautifulSoup(req.content, 'html5lib') \n",
    "print('Page Scraped.') "
   ]
  },
  {
   "cell_type": "markdown",
   "metadata": {},
   "source": [
    "#### 1.1.3 Create a dataframe from the scraped data\n",
    ">1. Create a list to store the scraped data\n",
    "2. Find the 1st table in the scraped data represented by the tag \\<table\\>\n",
    "3. Find all tags \\<tr\\> in the table\n",
    "4. Create a dictionary to store data\n",
    "5. Ignore Not assigned values.\n",
    "6. Postal code contains up to 3 characters from the \\<p\\> tag\n",
    "7. Split Borough from the \\<span\\> tag\n",
    "8. Split Neighborhood from the \\<span\\> tag\n",
    "9. Append to list\n",
    "10. Change list to dataframe\n",
    "11. Standardize Borough\n",
    "12. Reset the index\n",
    "13. Combine multiple rows into single rows (multiple neighborhoods can exist in one postal code area)\n",
    "14. Check the health of the dataframe\n"
   ]
  },
  {
   "cell_type": "code",
   "execution_count": 4,
   "metadata": {},
   "outputs": [
    {
     "data": {
      "text/html": [
       "<div>\n",
       "<style scoped>\n",
       "    .dataframe tbody tr th:only-of-type {\n",
       "        vertical-align: middle;\n",
       "    }\n",
       "\n",
       "    .dataframe tbody tr th {\n",
       "        vertical-align: top;\n",
       "    }\n",
       "\n",
       "    .dataframe thead th {\n",
       "        text-align: right;\n",
       "    }\n",
       "</style>\n",
       "<table border=\"1\" class=\"dataframe\">\n",
       "  <thead>\n",
       "    <tr style=\"text-align: right;\">\n",
       "      <th></th>\n",
       "      <th>index</th>\n",
       "      <th>Borough</th>\n",
       "      <th>Neighborhood</th>\n",
       "    </tr>\n",
       "    <tr>\n",
       "      <th>PostalCode</th>\n",
       "      <th></th>\n",
       "      <th></th>\n",
       "      <th></th>\n",
       "    </tr>\n",
       "  </thead>\n",
       "  <tbody>\n",
       "    <tr>\n",
       "      <th>M1B</th>\n",
       "      <td>6</td>\n",
       "      <td>Scarborough</td>\n",
       "      <td>Malvern, Rouge</td>\n",
       "    </tr>\n",
       "    <tr>\n",
       "      <th>M1C</th>\n",
       "      <td>12</td>\n",
       "      <td>Scarborough</td>\n",
       "      <td>Rouge Hill, Port Union, Highland Creek</td>\n",
       "    </tr>\n",
       "    <tr>\n",
       "      <th>M1E</th>\n",
       "      <td>18</td>\n",
       "      <td>Scarborough</td>\n",
       "      <td>Guildwood, Morningside, West Hill</td>\n",
       "    </tr>\n",
       "    <tr>\n",
       "      <th>M1G</th>\n",
       "      <td>22</td>\n",
       "      <td>Scarborough</td>\n",
       "      <td>Woburn</td>\n",
       "    </tr>\n",
       "    <tr>\n",
       "      <th>M1H</th>\n",
       "      <td>26</td>\n",
       "      <td>Scarborough</td>\n",
       "      <td>Cedarbrae</td>\n",
       "    </tr>\n",
       "  </tbody>\n",
       "</table>\n",
       "</div>"
      ],
      "text/plain": [
       "            index      Borough                            Neighborhood\n",
       "PostalCode                                                            \n",
       "M1B             6  Scarborough                          Malvern, Rouge\n",
       "M1C            12  Scarborough  Rouge Hill, Port Union, Highland Creek\n",
       "M1E            18  Scarborough       Guildwood, Morningside, West Hill\n",
       "M1G            22  Scarborough                                  Woburn\n",
       "M1H            26  Scarborough                               Cedarbrae"
      ]
     },
     "execution_count": 4,
     "metadata": {},
     "output_type": "execute_result"
    }
   ],
   "source": [
    "table_contents=[] # Create a list to store the scraped data\n",
    "table=soup.find('table') # Find the 1st table in the scraped data represented by the tag <table>\n",
    "for row in table.findAll('td'): # Find all tags <tr> in the table\n",
    "    cell = {} # create a dictionary to store data\n",
    "    if row.span.text=='Not assigned':\n",
    "        pass # Ignore Not assigned.\n",
    "    else:\n",
    "        cell['PostalCode'] = row.p.text[:3] # postal code contains up to 3 characters from the <p> tag\n",
    "        cell['Borough'] = (row.span.text).split('(')[0] # Split Borough from the <span> tag\n",
    "        cell['Neighborhood'] = (((((row.span.text).split('(')[1]).strip(')')).replace(' /',',')).replace(')',' ')).strip(' ') # Split Neighborhood from the <span> tag\n",
    "        table_contents.append(cell) # Append to list\n",
    "\n",
    "df=pd.DataFrame(table_contents) # Change list to dataframe\n",
    "\n",
    "df['Borough']=df['Borough'].replace({'Downtown TorontoStn A PO Boxes25 The Esplanade':'Downtown Toronto Stn A',\n",
    "                                             'East TorontoBusiness reply mail Processing Centre969 Eastern':'East Toronto Business',\n",
    "                                             'EtobicokeNorthwest':'Etobicoke Northwest','East YorkEast Toronto':'East York/East Toronto',\n",
    "                                             'MississaugaCanada Post Gateway Processing Centre':'Mississauga'}) # Standardize\n",
    "df.reset_index(inplace = True) # Reset the index\n",
    "df=df.groupby(['PostalCode']).first() # More than one neighborhood can exist in one postal code area. Combine multiple rows into single rows with comma-separated 'Neighborhoods'\n",
    "df.head()"
   ]
  },
  {
   "cell_type": "code",
   "execution_count": 5,
   "metadata": {},
   "outputs": [
    {
     "name": "stdout",
     "output_type": "stream",
     "text": [
      "Number of unique Postal Codes is 103\n"
     ]
    }
   ],
   "source": [
    "print('Number of unique Postal Codes is {}'.format(len(df['Neighborhood'].unique())))"
   ]
  },
  {
   "cell_type": "code",
   "execution_count": 6,
   "metadata": {},
   "outputs": [
    {
     "name": "stdout",
     "output_type": "stream",
     "text": [
      "Number of Borough's 'Not assigned' is 0\n"
     ]
    }
   ],
   "source": [
    "print('Number of Borough\\'s \\'Not assigned\\' is {}'.format(df[df['Borough'] == 'Not assigned'].count()[0]))"
   ]
  },
  {
   "cell_type": "code",
   "execution_count": 7,
   "metadata": {},
   "outputs": [
    {
     "data": {
      "text/plain": [
       "(103, 3)"
      ]
     },
     "execution_count": 7,
     "metadata": {},
     "output_type": "execute_result"
    }
   ],
   "source": [
    "df.shape"
   ]
  },
  {
   "cell_type": "markdown",
   "metadata": {},
   "source": [
    "### 2. Part II - Data Exploration"
   ]
  },
  {
   "cell_type": "markdown",
   "metadata": {},
   "source": [
    "### 3. Part III - Data Processing"
   ]
  },
  {
   "cell_type": "code",
   "execution_count": null,
   "metadata": {},
   "outputs": [],
   "source": []
  }
 ],
 "metadata": {
  "hide_input": false,
  "kernelspec": {
   "display_name": "Python 3",
   "language": "python",
   "name": "python3"
  },
  "language_info": {
   "codemirror_mode": {
    "name": "ipython",
    "version": 3
   },
   "file_extension": ".py",
   "mimetype": "text/x-python",
   "name": "python",
   "nbconvert_exporter": "python",
   "pygments_lexer": "ipython3",
   "version": "3.8.5"
  }
 },
 "nbformat": 4,
 "nbformat_minor": 4
}
